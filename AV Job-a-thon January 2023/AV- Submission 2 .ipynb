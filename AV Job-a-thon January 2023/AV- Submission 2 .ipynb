{
 "cells": [
  {
   "cell_type": "code",
   "execution_count": 5,
   "metadata": {},
   "outputs": [],
   "source": [
    "import pandas as pd "
   ]
  },
  {
   "cell_type": "code",
   "execution_count": 6,
   "metadata": {},
   "outputs": [],
   "source": [
    "#load train and test files\n",
    "train = pd.read_csv('train_BRCpofr.csv')\n",
    "test = pd.read_csv('test_koRSKBP.csv')"
   ]
  },
  {
   "cell_type": "code",
   "execution_count": 7,
   "metadata": {},
   "outputs": [
    {
     "name": "stdout",
     "output_type": "stream",
     "text": [
      "(89392, 12) (59595, 11)\n"
     ]
    }
   ],
   "source": [
    "print(train.shape, test.shape)"
   ]
  },
  {
   "cell_type": "code",
   "execution_count": 8,
   "metadata": {},
   "outputs": [],
   "source": [
    "#taking the median of cltv from the training set\n",
    "test['cltv'] = train['cltv'].median()\n",
    "\n",
    "#create the submission file \n",
    "submission2 = test[['id', 'cltv']]\n",
    "submission2.to_csv('submission2.csv', index = False)"
   ]
  },
  {
   "cell_type": "code",
   "execution_count": 2,
   "metadata": {},
   "outputs": [
    {
     "name": "stdout",
     "output_type": "stream",
     "text": [
      "Collecting sweetviz\n",
      "  Downloading sweetviz-2.1.4-py3-none-any.whl (15.1 MB)\n",
      "     ---------------------------------------- 15.1/15.1 MB 3.9 MB/s eta 0:00:00\n",
      "Requirement already satisfied: pandas!=1.0.0,!=1.0.1,!=1.0.2,>=0.25.3 in c:\\users\\ramar\\anaconda3\\lib\\site-packages (from sweetviz) (1.4.3)\n",
      "Collecting importlib-resources>=1.2.0\n",
      "  Downloading importlib_resources-5.10.2-py3-none-any.whl (34 kB)\n",
      "Requirement already satisfied: matplotlib>=3.1.3 in c:\\users\\ramar\\anaconda3\\lib\\site-packages (from sweetviz) (3.3.2)\n",
      "Requirement already satisfied: numpy>=1.16.0 in c:\\users\\ramar\\anaconda3\\lib\\site-packages (from sweetviz) (1.23.3)\n",
      "Requirement already satisfied: tqdm>=4.43.0 in c:\\users\\ramar\\anaconda3\\lib\\site-packages (from sweetviz) (4.50.2)\n",
      "Requirement already satisfied: jinja2>=2.11.1 in c:\\users\\ramar\\anaconda3\\lib\\site-packages (from sweetviz) (2.11.2)\n",
      "Requirement already satisfied: scipy>=1.3.2 in c:\\users\\ramar\\anaconda3\\lib\\site-packages (from sweetviz) (1.5.2)\n",
      "Requirement already satisfied: zipp>=3.1.0 in c:\\users\\ramar\\anaconda3\\lib\\site-packages (from importlib-resources>=1.2.0->sweetviz) (3.4.0)\n",
      "Requirement already satisfied: MarkupSafe>=0.23 in c:\\users\\ramar\\anaconda3\\lib\\site-packages (from jinja2>=2.11.1->sweetviz) (1.1.1)\n",
      "Requirement already satisfied: pyparsing!=2.0.4,!=2.1.2,!=2.1.6,>=2.0.3 in c:\\users\\ramar\\anaconda3\\lib\\site-packages (from matplotlib>=3.1.3->sweetviz) (2.4.7)\n",
      "Requirement already satisfied: python-dateutil>=2.1 in c:\\users\\ramar\\anaconda3\\lib\\site-packages (from matplotlib>=3.1.3->sweetviz) (2.8.1)Note: you may need to restart the kernel to use updated packages.\n",
      "\n",
      "Requirement already satisfied: cycler>=0.10 in c:\\users\\ramar\\anaconda3\\lib\\site-packages (from matplotlib>=3.1.3->sweetviz) (0.10.0)\n",
      "Requirement already satisfied: pillow>=6.2.0 in c:\\users\\ramar\\anaconda3\\lib\\site-packages (from matplotlib>=3.1.3->sweetviz) (8.0.1)\n",
      "Requirement already satisfied: kiwisolver>=1.0.1 in c:\\users\\ramar\\anaconda3\\lib\\site-packages (from matplotlib>=3.1.3->sweetviz) (1.3.0)\n",
      "Requirement already satisfied: certifi>=2020.06.20 in c:\\users\\ramar\\anaconda3\\lib\\site-packages (from matplotlib>=3.1.3->sweetviz) (2020.6.20)\n",
      "Requirement already satisfied: pytz>=2020.1 in c:\\users\\ramar\\anaconda3\\lib\\site-packages (from pandas!=1.0.0,!=1.0.1,!=1.0.2,>=0.25.3->sweetviz) (2020.1)\n",
      "Requirement already satisfied: six in c:\\users\\ramar\\anaconda3\\lib\\site-packages (from cycler>=0.10->matplotlib>=3.1.3->sweetviz) (1.15.0)\n",
      "Installing collected packages: importlib-resources, sweetviz\n",
      "Successfully installed importlib-resources-5.10.2 sweetviz-2.1.4\n"
     ]
    }
   ],
   "source": [
    "pip install sweetviz"
   ]
  },
  {
   "cell_type": "code",
   "execution_count": 9,
   "metadata": {},
   "outputs": [
    {
     "data": {
      "application/vnd.jupyter.widget-view+json": {
       "model_id": "7c331b7f61b54386b4f938f5c40306e4",
       "version_major": 2,
       "version_minor": 0
      },
      "text/plain": [
       "HBox(children=(HTML(value=''), FloatProgress(value=0.0, layout=Layout(flex='2'), max=13.0), HTML(value='')), l…"
      ]
     },
     "metadata": {},
     "output_type": "display_data"
    },
    {
     "name": "stdout",
     "output_type": "stream",
     "text": [
      "\n"
     ]
    }
   ],
   "source": [
    "import sweetviz as sv\n",
    "eda = sv.analyze(train)"
   ]
  },
  {
   "cell_type": "code",
   "execution_count": 12,
   "metadata": {},
   "outputs": [
    {
     "name": "stdout",
     "output_type": "stream",
     "text": [
      "<div class=\"container-feature-summary\" id=\"summary-df\" data-detail-div=\"detail-df\">\n",
      "    <div class=\"pos-dataframe-summary text-label\">\n",
      "        <span class=\"top-header\"></span>\n",
      "        <div class=\"pos-dataframe-summary-title-source text-dataframe-title color-source\">DataFrame</div>\n",
      "            <div class=\"pos-dataframe-summary-title-compare-none text-dataframe-title-small color-title-disabled\">NO COMPARISON TARGET</div>\n",
      "        <div class=\"pos-dataframe-summary-rows\">\n",
      "            <div class=\"dataframe-summary-row row-colored\">\n",
      "                <div class=\"pos-df-summary-source color-source\">89392</div>\n",
      "                <div class=\"pos-df-summary-center\">ROWS</div>\n",
      "                <div class=\"pos-df-summary-compare color-compare\"></div>\n",
      "            </div>\n",
      "             <div class=\"dataframe-summary-row\">\n",
      "                <div class=\"pos-df-summary-source color-source\">0</div>\n",
      "                <div class=\"pos-df-summary-center\">DUPLICATES</div>\n",
      "                <div class=\"pos-df-summary-compare color-compare\"></div>\n",
      "            </div>\n",
      "            <div class=\"dataframe-summary-row row-colored\">\n",
      "                <div class=\"pos-df-summary-source color-source\">43.0 MB</div>\n",
      "                <div class=\"pos-df-summary-center\">RAM</div>\n",
      "                <div class=\"pos-df-summary-compare color-compare\"></div>\n",
      "            </div>\n",
      "            <div class=\"dataframe-summary-row row\">\n",
      "                <div class=\"pos-df-summary-source color-source\">\n",
      "                    12\n",
      "                </div>\n",
      "                <div class=\"pos-df-summary-center\">FEATURES</div>\n",
      "                <div class=\"pos-df-summary-compare color-compare\">\n",
      "                </div>\n",
      "            </div>\n",
      "            <div class=\"dataframe-summary-row row-colored\">\n",
      "                <div class=\"pos-df-summary-source color-source\">9</div>\n",
      "                <div class=\"pos-df-summary-center\">CATEGORICAL</div>\n",
      "                <div class=\"pos-df-summary-compare color-compare\"></div>\n",
      "            </div>\n",
      "             <div class=\"dataframe-summary-row \">\n",
      "                <div class=\"pos-df-summary-source color-source\">3</div>\n",
      "                <div class=\"pos-df-summary-center\">NUMERICAL</div>\n",
      "                <div class=\"pos-df-summary-compare color-compare\"></div>\n",
      "            </div>\n",
      "            <div class=\"dataframe-summary-row row-colored\">\n",
      "                <div class=\"pos-df-summary-source color-source\">0</div>\n",
      "                <div class=\"pos-df-summary-center\">TEXT</div>\n",
      "                <div class=\"pos-df-summary-compare color-compare\"></div>\n",
      "            </div>\n",
      "            <button class=\"button-assoc color-source button-border-source size-df-summary-button pos-df-summary-button-assoc-source\" id=\"button-summary-associations-source\"\n",
      "                data-detail-div=\"df-assoc-source\">ASSOCIATIONS</button >\n",
      "        </div>\n",
      "    </div>\n",
      "</div>\n",
      "\n",
      "\n",
      "\n"
     ]
    }
   ],
   "source": [
    "print(eda.dataframe_summary_html)"
   ]
  },
  {
   "cell_type": "code",
   "execution_count": 13,
   "metadata": {},
   "outputs": [
    {
     "name": "stdout",
     "output_type": "stream",
     "text": [
      "Report SWEETVIZ_REPORT.html was generated! NOTEBOOK/COLAB USERS: the web browser MAY not pop up, regardless, the report IS saved in your notebook/colab files.\n"
     ]
    }
   ],
   "source": [
    "eda.show_html()"
   ]
  },
  {
   "cell_type": "code",
   "execution_count": null,
   "metadata": {},
   "outputs": [],
   "source": []
  }
 ],
 "metadata": {
  "kernelspec": {
   "display_name": "Python 3",
   "language": "python",
   "name": "python3"
  },
  "language_info": {
   "codemirror_mode": {
    "name": "ipython",
    "version": 3
   },
   "file_extension": ".py",
   "mimetype": "text/x-python",
   "name": "python",
   "nbconvert_exporter": "python",
   "pygments_lexer": "ipython3",
   "version": "3.8.5"
  }
 },
 "nbformat": 4,
 "nbformat_minor": 4
}
