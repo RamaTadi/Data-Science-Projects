{
 "cells": [
  {
   "cell_type": "code",
   "execution_count": 2,
   "metadata": {},
   "outputs": [],
   "source": [
    "import pandas as pd \n",
    "import numpy as np\n",
    "import matplotlib.pyplot as plt \n",
    "import seaborn as sns"
   ]
  },
  {
   "cell_type": "code",
   "execution_count": 3,
   "metadata": {},
   "outputs": [],
   "source": [
    "#load train and test files\n",
    "train = pd.read_csv('train_BRCpofr.csv')\n",
    "test = pd.read_csv('test_koRSKBP.csv')"
   ]
  },
  {
   "cell_type": "code",
   "execution_count": 4,
   "metadata": {},
   "outputs": [
    {
     "name": "stdout",
     "output_type": "stream",
     "text": [
      "(89392, 12) (59595, 11)\n"
     ]
    }
   ],
   "source": [
    "print(train.shape, test.shape)"
   ]
  },
  {
   "cell_type": "code",
   "execution_count": 5,
   "metadata": {},
   "outputs": [
    {
     "data": {
      "text/html": [
       "<div>\n",
       "<style scoped>\n",
       "    .dataframe tbody tr th:only-of-type {\n",
       "        vertical-align: middle;\n",
       "    }\n",
       "\n",
       "    .dataframe tbody tr th {\n",
       "        vertical-align: top;\n",
       "    }\n",
       "\n",
       "    .dataframe thead th {\n",
       "        text-align: right;\n",
       "    }\n",
       "</style>\n",
       "<table border=\"1\" class=\"dataframe\">\n",
       "  <thead>\n",
       "    <tr style=\"text-align: right;\">\n",
       "      <th></th>\n",
       "      <th>id</th>\n",
       "      <th>gender</th>\n",
       "      <th>area</th>\n",
       "      <th>qualification</th>\n",
       "      <th>income</th>\n",
       "      <th>marital_status</th>\n",
       "      <th>vintage</th>\n",
       "      <th>claim_amount</th>\n",
       "      <th>num_policies</th>\n",
       "      <th>policy</th>\n",
       "      <th>type_of_policy</th>\n",
       "      <th>cltv</th>\n",
       "    </tr>\n",
       "  </thead>\n",
       "  <tbody>\n",
       "    <tr>\n",
       "      <th>0</th>\n",
       "      <td>1</td>\n",
       "      <td>Male</td>\n",
       "      <td>Urban</td>\n",
       "      <td>Bachelor</td>\n",
       "      <td>5L-10L</td>\n",
       "      <td>1</td>\n",
       "      <td>5</td>\n",
       "      <td>5790</td>\n",
       "      <td>More than 1</td>\n",
       "      <td>A</td>\n",
       "      <td>Platinum</td>\n",
       "      <td>64308</td>\n",
       "    </tr>\n",
       "    <tr>\n",
       "      <th>1</th>\n",
       "      <td>2</td>\n",
       "      <td>Male</td>\n",
       "      <td>Rural</td>\n",
       "      <td>High School</td>\n",
       "      <td>5L-10L</td>\n",
       "      <td>0</td>\n",
       "      <td>8</td>\n",
       "      <td>5080</td>\n",
       "      <td>More than 1</td>\n",
       "      <td>A</td>\n",
       "      <td>Platinum</td>\n",
       "      <td>515400</td>\n",
       "    </tr>\n",
       "    <tr>\n",
       "      <th>2</th>\n",
       "      <td>3</td>\n",
       "      <td>Male</td>\n",
       "      <td>Urban</td>\n",
       "      <td>Bachelor</td>\n",
       "      <td>5L-10L</td>\n",
       "      <td>1</td>\n",
       "      <td>8</td>\n",
       "      <td>2599</td>\n",
       "      <td>More than 1</td>\n",
       "      <td>A</td>\n",
       "      <td>Platinum</td>\n",
       "      <td>64212</td>\n",
       "    </tr>\n",
       "    <tr>\n",
       "      <th>3</th>\n",
       "      <td>4</td>\n",
       "      <td>Female</td>\n",
       "      <td>Rural</td>\n",
       "      <td>High School</td>\n",
       "      <td>5L-10L</td>\n",
       "      <td>0</td>\n",
       "      <td>7</td>\n",
       "      <td>0</td>\n",
       "      <td>More than 1</td>\n",
       "      <td>A</td>\n",
       "      <td>Platinum</td>\n",
       "      <td>97920</td>\n",
       "    </tr>\n",
       "    <tr>\n",
       "      <th>4</th>\n",
       "      <td>5</td>\n",
       "      <td>Male</td>\n",
       "      <td>Urban</td>\n",
       "      <td>High School</td>\n",
       "      <td>More than 10L</td>\n",
       "      <td>1</td>\n",
       "      <td>6</td>\n",
       "      <td>3508</td>\n",
       "      <td>More than 1</td>\n",
       "      <td>A</td>\n",
       "      <td>Gold</td>\n",
       "      <td>59736</td>\n",
       "    </tr>\n",
       "    <tr>\n",
       "      <th>...</th>\n",
       "      <td>...</td>\n",
       "      <td>...</td>\n",
       "      <td>...</td>\n",
       "      <td>...</td>\n",
       "      <td>...</td>\n",
       "      <td>...</td>\n",
       "      <td>...</td>\n",
       "      <td>...</td>\n",
       "      <td>...</td>\n",
       "      <td>...</td>\n",
       "      <td>...</td>\n",
       "      <td>...</td>\n",
       "    </tr>\n",
       "    <tr>\n",
       "      <th>89387</th>\n",
       "      <td>89388</td>\n",
       "      <td>Male</td>\n",
       "      <td>Rural</td>\n",
       "      <td>High School</td>\n",
       "      <td>More than 10L</td>\n",
       "      <td>0</td>\n",
       "      <td>6</td>\n",
       "      <td>0</td>\n",
       "      <td>More than 1</td>\n",
       "      <td>B</td>\n",
       "      <td>Platinum</td>\n",
       "      <td>95736</td>\n",
       "    </tr>\n",
       "    <tr>\n",
       "      <th>89388</th>\n",
       "      <td>89389</td>\n",
       "      <td>Male</td>\n",
       "      <td>Urban</td>\n",
       "      <td>Bachelor</td>\n",
       "      <td>5L-10L</td>\n",
       "      <td>1</td>\n",
       "      <td>0</td>\n",
       "      <td>3897</td>\n",
       "      <td>More than 1</td>\n",
       "      <td>A</td>\n",
       "      <td>Platinum</td>\n",
       "      <td>67596</td>\n",
       "    </tr>\n",
       "    <tr>\n",
       "      <th>89389</th>\n",
       "      <td>89390</td>\n",
       "      <td>Female</td>\n",
       "      <td>Urban</td>\n",
       "      <td>Bachelor</td>\n",
       "      <td>5L-10L</td>\n",
       "      <td>0</td>\n",
       "      <td>4</td>\n",
       "      <td>3363</td>\n",
       "      <td>More than 1</td>\n",
       "      <td>B</td>\n",
       "      <td>Platinum</td>\n",
       "      <td>114120</td>\n",
       "    </tr>\n",
       "    <tr>\n",
       "      <th>89390</th>\n",
       "      <td>89391</td>\n",
       "      <td>Female</td>\n",
       "      <td>Rural</td>\n",
       "      <td>High School</td>\n",
       "      <td>2L-5L</td>\n",
       "      <td>0</td>\n",
       "      <td>8</td>\n",
       "      <td>0</td>\n",
       "      <td>More than 1</td>\n",
       "      <td>B</td>\n",
       "      <td>Platinum</td>\n",
       "      <td>71772</td>\n",
       "    </tr>\n",
       "    <tr>\n",
       "      <th>89391</th>\n",
       "      <td>89392</td>\n",
       "      <td>Female</td>\n",
       "      <td>Rural</td>\n",
       "      <td>High School</td>\n",
       "      <td>5L-10L</td>\n",
       "      <td>0</td>\n",
       "      <td>6</td>\n",
       "      <td>0</td>\n",
       "      <td>More than 1</td>\n",
       "      <td>B</td>\n",
       "      <td>Gold</td>\n",
       "      <td>108144</td>\n",
       "    </tr>\n",
       "  </tbody>\n",
       "</table>\n",
       "<p>89392 rows × 12 columns</p>\n",
       "</div>"
      ],
      "text/plain": [
       "          id  gender   area qualification         income  marital_status  \\\n",
       "0          1    Male  Urban      Bachelor         5L-10L               1   \n",
       "1          2    Male  Rural   High School         5L-10L               0   \n",
       "2          3    Male  Urban      Bachelor         5L-10L               1   \n",
       "3          4  Female  Rural   High School         5L-10L               0   \n",
       "4          5    Male  Urban   High School  More than 10L               1   \n",
       "...      ...     ...    ...           ...            ...             ...   \n",
       "89387  89388    Male  Rural   High School  More than 10L               0   \n",
       "89388  89389    Male  Urban      Bachelor         5L-10L               1   \n",
       "89389  89390  Female  Urban      Bachelor         5L-10L               0   \n",
       "89390  89391  Female  Rural   High School          2L-5L               0   \n",
       "89391  89392  Female  Rural   High School         5L-10L               0   \n",
       "\n",
       "       vintage  claim_amount num_policies policy type_of_policy    cltv  \n",
       "0            5          5790  More than 1      A       Platinum   64308  \n",
       "1            8          5080  More than 1      A       Platinum  515400  \n",
       "2            8          2599  More than 1      A       Platinum   64212  \n",
       "3            7             0  More than 1      A       Platinum   97920  \n",
       "4            6          3508  More than 1      A           Gold   59736  \n",
       "...        ...           ...          ...    ...            ...     ...  \n",
       "89387        6             0  More than 1      B       Platinum   95736  \n",
       "89388        0          3897  More than 1      A       Platinum   67596  \n",
       "89389        4          3363  More than 1      B       Platinum  114120  \n",
       "89390        8             0  More than 1      B       Platinum   71772  \n",
       "89391        6             0  More than 1      B           Gold  108144  \n",
       "\n",
       "[89392 rows x 12 columns]"
      ]
     },
     "execution_count": 5,
     "metadata": {},
     "output_type": "execute_result"
    }
   ],
   "source": [
    "train"
   ]
  },
  {
   "cell_type": "code",
   "execution_count": 6,
   "metadata": {},
   "outputs": [
    {
     "data": {
      "text/html": [
       "<div>\n",
       "<style scoped>\n",
       "    .dataframe tbody tr th:only-of-type {\n",
       "        vertical-align: middle;\n",
       "    }\n",
       "\n",
       "    .dataframe tbody tr th {\n",
       "        vertical-align: top;\n",
       "    }\n",
       "\n",
       "    .dataframe thead th {\n",
       "        text-align: right;\n",
       "    }\n",
       "</style>\n",
       "<table border=\"1\" class=\"dataframe\">\n",
       "  <thead>\n",
       "    <tr style=\"text-align: right;\">\n",
       "      <th></th>\n",
       "      <th>claim_amount</th>\n",
       "      <th>cltv</th>\n",
       "    </tr>\n",
       "  </thead>\n",
       "  <tbody>\n",
       "    <tr>\n",
       "      <th>count</th>\n",
       "      <td>89392.000000</td>\n",
       "      <td>89392.000000</td>\n",
       "    </tr>\n",
       "    <tr>\n",
       "      <th>mean</th>\n",
       "      <td>4351.502416</td>\n",
       "      <td>97952.828978</td>\n",
       "    </tr>\n",
       "    <tr>\n",
       "      <th>std</th>\n",
       "      <td>3262.359775</td>\n",
       "      <td>90613.814793</td>\n",
       "    </tr>\n",
       "    <tr>\n",
       "      <th>min</th>\n",
       "      <td>0.000000</td>\n",
       "      <td>24828.000000</td>\n",
       "    </tr>\n",
       "    <tr>\n",
       "      <th>25%</th>\n",
       "      <td>2406.000000</td>\n",
       "      <td>52836.000000</td>\n",
       "    </tr>\n",
       "    <tr>\n",
       "      <th>50%</th>\n",
       "      <td>4089.000000</td>\n",
       "      <td>66396.000000</td>\n",
       "    </tr>\n",
       "    <tr>\n",
       "      <th>75%</th>\n",
       "      <td>6094.000000</td>\n",
       "      <td>103440.000000</td>\n",
       "    </tr>\n",
       "    <tr>\n",
       "      <th>max</th>\n",
       "      <td>31894.000000</td>\n",
       "      <td>724068.000000</td>\n",
       "    </tr>\n",
       "  </tbody>\n",
       "</table>\n",
       "</div>"
      ],
      "text/plain": [
       "       claim_amount           cltv\n",
       "count  89392.000000   89392.000000\n",
       "mean    4351.502416   97952.828978\n",
       "std     3262.359775   90613.814793\n",
       "min        0.000000   24828.000000\n",
       "25%     2406.000000   52836.000000\n",
       "50%     4089.000000   66396.000000\n",
       "75%     6094.000000  103440.000000\n",
       "max    31894.000000  724068.000000"
      ]
     },
     "execution_count": 6,
     "metadata": {},
     "output_type": "execute_result"
    }
   ],
   "source": [
    "train[['claim_amount', 'cltv']].describe()"
   ]
  },
  {
   "cell_type": "code",
   "execution_count": 7,
   "metadata": {},
   "outputs": [
    {
     "data": {
      "text/plain": [
       "<AxesSubplot:xlabel='claim_amount', ylabel='Count'>"
      ]
     },
     "execution_count": 7,
     "metadata": {},
     "output_type": "execute_result"
    },
    {
     "data": {
      "image/png": "[encoded data removed]",
      "text/plain": [
       "<Figure size 432x288 with 1 Axes>"
      ]
     },
     "metadata": {
      "needs_background": "light"
     },
     "output_type": "display_data"
    }
   ],
   "source": [
    "sns.histplot((train.claim_amount))"
   ]
  },
  {
   "cell_type": "code",
   "execution_count": 8,
   "metadata": {},
   "outputs": [
    {
     "data": {
      "text/plain": [
       "<AxesSubplot:xlabel='cltv', ylabel='Count'>"
      ]
     },
     "execution_count": 8,
     "metadata": {},
     "output_type": "execute_result"
    },
    {
     "data": {
      "image/png": "[encoded data removed]",
      "text/plain": [
       "<Figure size 432x288 with 1 Axes>"
      ]
     },
     "metadata": {
      "needs_background": "light"
     },
     "output_type": "display_data"
    }
   ],
   "source": [
    "sns.histplot((train.cltv))"
   ]
  },
  {
   "cell_type": "code",
   "execution_count": 9,
   "metadata": {},
   "outputs": [
    {
     "data": {
      "text/plain": [
       "array(['A', 'C', 'B'], dtype=object)"
      ]
     },
     "execution_count": 9,
     "metadata": {},
     "output_type": "execute_result"
    }
   ],
   "source": [
    "train.policy.unique()"
   ]
  },
  {
   "cell_type": "code",
   "execution_count": 10,
   "metadata": {},
   "outputs": [
    {
     "data": {
      "text/plain": [
       "array(['Platinum', 'Gold', 'Silver'], dtype=object)"
      ]
     },
     "execution_count": 10,
     "metadata": {},
     "output_type": "execute_result"
    }
   ],
   "source": [
    "train.type_of_policy.unique()"
   ]
  },
  {
   "cell_type": "code",
   "execution_count": 11,
   "metadata": {},
   "outputs": [
    {
     "data": {
      "text/plain": [
       "id                89392\n",
       "gender                2\n",
       "area                  2\n",
       "qualification         3\n",
       "income                4\n",
       "marital_status        2\n",
       "vintage               9\n",
       "claim_amount      10889\n",
       "num_policies          2\n",
       "policy                3\n",
       "type_of_policy        3\n",
       "cltv              18796\n",
       "dtype: int64"
      ]
     },
     "execution_count": 11,
     "metadata": {},
     "output_type": "execute_result"
    }
   ],
   "source": [
    "train.nunique()"
   ]
  },
  {
   "cell_type": "code",
   "execution_count": 12,
   "metadata": {},
   "outputs": [
    {
     "data": {
      "text/plain": [
       "array([5, 8, 7, 6, 1, 0, 3, 4, 2], dtype=int64)"
      ]
     },
     "execution_count": 12,
     "metadata": {},
     "output_type": "execute_result"
    }
   ],
   "source": [
    "train.vintage.unique()"
   ]
  },
  {
   "cell_type": "code",
   "execution_count": 13,
   "metadata": {},
   "outputs": [
    {
     "name": "stdout",
     "output_type": "stream",
     "text": [
      "<class 'pandas.core.frame.DataFrame'>\n",
      "RangeIndex: 89392 entries, 0 to 89391\n",
      "Data columns (total 12 columns):\n",
      " #   Column          Non-Null Count  Dtype \n",
      "---  ------          --------------  ----- \n",
      " 0   id              89392 non-null  int64 \n",
      " 1   gender          89392 non-null  object\n",
      " 2   area            89392 non-null  object\n",
      " 3   qualification   89392 non-null  object\n",
      " 4   income          89392 non-null  object\n",
      " 5   marital_status  89392 non-null  int64 \n",
      " 6   vintage         89392 non-null  int64 \n",
      " 7   claim_amount    89392 non-null  int64 \n",
      " 8   num_policies    89392 non-null  object\n",
      " 9   policy          89392 non-null  object\n",
      " 10  type_of_policy  89392 non-null  object\n",
      " 11  cltv            89392 non-null  int64 \n",
      "dtypes: int64(5), object(7)\n",
      "memory usage: 8.2+ MB\n"
     ]
    }
   ],
   "source": [
    "train.info()"
   ]
  },
  {
   "cell_type": "code",
   "execution_count": 14,
   "metadata": {},
   "outputs": [
    {
     "name": "stdout",
     "output_type": "stream",
     "text": [
      "gender ['Male' 'Female']\n",
      "area ['Urban' 'Rural']\n",
      "qualification ['Bachelor' 'High School' 'Others']\n",
      "income ['5L-10L' 'More than 10L' '2L-5L' '<=2L']\n",
      "num_policies ['More than 1' '1']\n",
      "policy ['A' 'C' 'B']\n",
      "type_of_policy ['Platinum' 'Gold' 'Silver']\n"
     ]
    }
   ],
   "source": [
    " for col in train.select_dtypes(['object']).columns:\n",
    "        print(col, train[col].unique())"
   ]
  },
  {
   "cell_type": "code",
   "execution_count": 15,
   "metadata": {},
   "outputs": [],
   "source": [
    "qualification_dict = {'Others': 0,'High School':1, 'Bachelor': 2}\n",
    "income_dict = {'<=2L': 0,  '2L-5L':1, '5L-10L':2,  'More than 10L' :3 }\n",
    "num_policies_dict =  {'1': 0,'More than 1': 1 }\n",
    "type_of_policy_dict = { 'Silver': 0,  'Gold' : 1 , 'Platinum': 2}"
   ]
  },
  {
   "cell_type": "code",
   "execution_count": 16,
   "metadata": {},
   "outputs": [
    {
     "data": {
      "text/plain": [
       "Index(['id', 'gender', 'area', 'qualification', 'income', 'marital_status',\n",
       "       'vintage', 'claim_amount', 'num_policies', 'policy', 'type_of_policy',\n",
       "       'cltv'],\n",
       "      dtype='object')"
      ]
     },
     "execution_count": 16,
     "metadata": {},
     "output_type": "execute_result"
    }
   ],
   "source": [
    "train.columns"
   ]
  },
  {
   "cell_type": "code",
   "execution_count": 17,
   "metadata": {},
   "outputs": [],
   "source": [
    "def label_df(df):\n",
    "    qualification_dict = {'Others': 0,'High School':1, 'Bachelor': 2}\n",
    "    income_dict = {'<=2L': 0,  '2L-5L':1, '5L-10L':2,  'More than 10L' :3 }\n",
    "    num_policies_dict =  {'1': 0,'More than 1': 1 }\n",
    "    type_of_policy_dict = { 'Silver': 0,  'Gold' : 1 , 'Platinum': 2}\n",
    "    \n",
    "    df['qualification'] = df['qualification'].map(qualification_dict)\n",
    "    df['income'] = df['income'].map(income_dict)\n",
    "    df['num_policies'] = df['num_policies'].map(num_policies_dict)\n",
    "    df['type_of_policy'] =  df['type_of_policy'].map(type_of_policy_dict)   \n",
    "    \n",
    "    return df"
   ]
  },
  {
   "cell_type": "markdown",
   "metadata": {},
   "source": [
    "label_df(train)"
   ]
  },
  {
   "cell_type": "markdown",
   "metadata": {},
   "source": [
    "label_df(test)"
   ]
  },
  {
   "cell_type": "code",
   "execution_count": 20,
   "metadata": {},
   "outputs": [],
   "source": [
    "train = pd.get_dummies(train, drop_first = True)"
   ]
  },
  {
   "cell_type": "code",
   "execution_count": 21,
   "metadata": {},
   "outputs": [],
   "source": [
    "test  = pd.get_dummies(test, drop_first = True)"
   ]
  },
  {
   "cell_type": "code",
   "execution_count": 22,
   "metadata": {},
   "outputs": [],
   "source": [
    "train_features = train.drop(['id', 'cltv'], axis = 'columns')"
   ]
  },
  {
   "cell_type": "code",
   "execution_count": 23,
   "metadata": {},
   "outputs": [],
   "source": [
    "train_target = train['cltv']"
   ]
  },
  {
   "cell_type": "code",
   "execution_count": 24,
   "metadata": {},
   "outputs": [],
   "source": [
    "test_features = test.drop(['id'], axis = 'columns')"
   ]
  },
  {
   "cell_type": "code",
   "execution_count": null,
   "metadata": {},
   "outputs": [],
   "source": []
  },
  {
   "cell_type": "code",
   "execution_count": 26,
   "metadata": {},
   "outputs": [],
   "source": [
    "from flaml import AutoML"
   ]
  },
  {
   "cell_type": "code",
   "execution_count": 27,
   "metadata": {},
   "outputs": [],
   "source": [
    "automl = AutoML()"
   ]
  },
  {
   "cell_type": "code",
   "execution_count": 29,
   "metadata": {},
   "outputs": [
    {
     "name": "stdout",
     "output_type": "stream",
     "text": [
      "[flaml.automl.automl: 01-21 11:17:56] {2715} INFO - task = regression\n",
      "[flaml.automl.automl: 01-21 11:17:56] {2717} INFO - Data split method: uniform\n",
      "[flaml.automl.automl: 01-21 11:17:56] {2720} INFO - Evaluation method: cv\n",
      "[flaml.automl.automl: 01-21 11:17:56] {2847} INFO - Minimizing error metric: 1-r2\n",
      "[flaml.automl.automl: 01-21 11:17:56] {2897} WARNING - No search budget is provided via time_budget or max_iter. Training only one model per estimator. Zero-shot AutoML is used for certain tasks and estimators. To tune hyperparameters for each estimator, please provide budget either via time_budget or max_iter.\n",
      "[flaml.automl.automl: 01-21 11:17:56] {2993} INFO - List of ML learners in AutoML Run: ['lgbm', 'rf', 'xgboost', 'extra_tree', 'xgb_limitdepth']\n",
      "[flaml.automl.automl: 01-21 11:17:56] {3322} INFO - iteration 0, current learner lgbm\n",
      "[flaml.automl.automl: 01-21 11:17:57] {3460} INFO - Estimated sufficient time budget=10000s. Estimated necessary time budget=10s.\n",
      "[flaml.automl.automl: 01-21 11:17:57] {3507} INFO -  at 1.9s,\testimator lgbm's best error=0.8441,\tbest estimator lgbm's best error=0.8441\n",
      "[flaml.automl.automl: 01-21 11:17:57] {3322} INFO - iteration 1, current learner rf\n",
      "[flaml.automl.automl: 01-21 11:21:17] {3507} INFO -  at 201.5s,\testimator rf's best error=0.8458,\tbest estimator lgbm's best error=0.8441\n",
      "[flaml.automl.automl: 01-21 11:21:17] {3322} INFO - iteration 2, current learner xgboost\n",
      "[flaml.automl.automl: 01-21 11:22:12] {3507} INFO -  at 256.9s,\testimator xgboost's best error=0.8424,\tbest estimator xgboost's best error=0.8424\n",
      "[flaml.automl.automl: 01-21 11:22:12] {3322} INFO - iteration 3, current learner extra_tree\n",
      "[flaml.automl.automl: 01-21 11:22:43] {3507} INFO -  at 287.2s,\testimator extra_tree's best error=0.8508,\tbest estimator xgboost's best error=0.8424\n",
      "[flaml.automl.automl: 01-21 11:22:43] {3322} INFO - iteration 4, current learner xgb_limitdepth\n",
      "[flaml.automl.automl: 01-21 11:25:05] {3507} INFO -  at 429.4s,\testimator xgb_limitdepth's best error=0.8474,\tbest estimator xgboost's best error=0.8424\n",
      "[flaml.automl.automl: 01-21 11:25:21] {3771} INFO - retrain xgboost for 16.2s\n",
      "[flaml.automl.automl: 01-21 11:25:21] {3778} INFO - retrained model: XGBRegressor(base_score=0.5, booster='gbtree', callbacks=[],\n",
      "             colsample_bylevel=1.0, colsample_bynode=1,\n",
      "             colsample_bytree=0.9999355357362375, early_stopping_rounds=None,\n",
      "             enable_categorical=False, eval_metric=None, feature_types=None,\n",
      "             gamma=0, gpu_id=-1, grow_policy='lossguide', importance_type=None,\n",
      "             interaction_constraints='', learning_rate=0.0028943401472847964,\n",
      "             max_bin=256, max_cat_threshold=64, max_cat_to_onehot=4,\n",
      "             max_delta_step=0, max_depth=0, max_leaves=59,\n",
      "             min_child_weight=0.013389019900720164, missing=nan,\n",
      "             monotone_constraints='()', n_estimators=1899, n_jobs=-1,\n",
      "             num_parallel_tree=1, predictor='auto', random_state=0, ...)\n",
      "[flaml.automl.automl: 01-21 11:25:21] {3023} INFO - fit succeeded\n",
      "[flaml.automl.automl: 01-21 11:25:21] {3024} INFO - Time taken to find the best model: 256.8864438533783\n"
     ]
    }
   ],
   "source": [
    "automl.fit(train_features, train_target, metric = 'r2', task = 'regression', time_budget= -1, n_splits=5)"
   ]
  },
  {
   "cell_type": "code",
   "execution_count": 30,
   "metadata": {},
   "outputs": [
    {
     "data": {
      "text/plain": [
       "{'n_estimators': 1899,\n",
       " 'max_leaves': 59,\n",
       " 'min_child_weight': 0.013389019900720164,\n",
       " 'learning_rate': 0.0028943401472847964,\n",
       " 'subsample': 0.7808944208233943,\n",
       " 'colsample_bylevel': 1.0,\n",
       " 'colsample_bytree': 0.9999355357362375,\n",
       " 'reg_alpha': 0.7905117773932878,\n",
       " 'reg_lambda': 2.916897119216104}"
      ]
     },
     "execution_count": 30,
     "metadata": {},
     "output_type": "execute_result"
    }
   ],
   "source": [
    "automl.best_config"
   ]
  },
  {
   "cell_type": "code",
   "execution_count": 31,
   "metadata": {},
   "outputs": [
    {
     "data": {
      "text/plain": [
       "{'lgbm': {},\n",
       " 'rf': {'n_estimators': 2047,\n",
       "  'max_features': 0.6683903035731481,\n",
       "  'max_leaves': 591,\n",
       "  'criterion': 'entropy'},\n",
       " 'xgboost': {'n_estimators': 1899,\n",
       "  'max_leaves': 59,\n",
       "  'min_child_weight': 0.013389019900720164,\n",
       "  'learning_rate': 0.0028943401472847964,\n",
       "  'subsample': 0.7808944208233943,\n",
       "  'colsample_bylevel': 1.0,\n",
       "  'colsample_bytree': 0.9999355357362375,\n",
       "  'reg_alpha': 0.7905117773932878,\n",
       "  'reg_lambda': 2.916897119216104},\n",
       " 'extra_tree': {'n_estimators': 346,\n",
       "  'max_features': 1.0,\n",
       "  'max_leaves': 1007,\n",
       "  'criterion': 'entropy'},\n",
       " 'xgb_limitdepth': {'n_estimators': 544,\n",
       "  'max_depth': 12,\n",
       "  'min_child_weight': 79.32555867011985,\n",
       "  'learning_rate': 0.010128107120014433,\n",
       "  'subsample': 0.9799974977817297,\n",
       "  'colsample_bylevel': 0.881815418056542,\n",
       "  'colsample_bytree': 0.9718556912196423,\n",
       "  'reg_alpha': 72.63148950428749,\n",
       "  'reg_lambda': 1.4601415712058006}}"
      ]
     },
     "execution_count": 31,
     "metadata": {},
     "output_type": "execute_result"
    }
   ],
   "source": [
    "automl.best_config_per_estimator"
   ]
  },
  {
   "cell_type": "code",
   "execution_count": 32,
   "metadata": {},
   "outputs": [
    {
     "data": {
      "text/plain": [
       "'xgboost'"
      ]
     },
     "execution_count": 32,
     "metadata": {},
     "output_type": "execute_result"
    }
   ],
   "source": [
    "automl.best_estimator"
   ]
  },
  {
   "cell_type": "code",
   "execution_count": 33,
   "metadata": {},
   "outputs": [
    {
     "data": {
      "text/plain": [
       "array([0.00646183, 0.0069956 , 0.01016835, 0.00672082, 0.01482515,\n",
       "       0.892872  , 0.00685378, 0.00693622, 0.02575521, 0.01141423,\n",
       "       0.01099701], dtype=float32)"
      ]
     },
     "execution_count": 33,
     "metadata": {},
     "output_type": "execute_result"
    }
   ],
   "source": [
    "automl.feature_importances_"
   ]
  },
  {
   "cell_type": "code",
   "execution_count": 34,
   "metadata": {},
   "outputs": [
    {
     "data": {
      "text/plain": [
       "Text(0.5, 1.0, 'Feature Importance')"
      ]
     },
     "execution_count": 34,
     "metadata": {},
     "output_type": "execute_result"
    },
    {
     "data": {
      "image/png": "[encoded data removed]",
      "text/plain": [
       "<Figure size 864x432 with 1 Axes>"
      ]
     },
     "metadata": {
      "needs_background": "light"
     },
     "output_type": "display_data"
    }
   ],
   "source": [
    "import numpy as np\n",
    "feature_importance = automl.feature_importances_\n",
    "sorted_idx = np.argsort(feature_importance)\n",
    "import matplotlib.pyplot as plt\n",
    "fig = plt.figure(figsize=(12, 6))\n",
    "plt.barh(range(len(sorted_idx)), feature_importance[sorted_idx], align='center')\n",
    "plt.yticks(range(len(sorted_idx)), np.array(train_features.columns)[sorted_idx])\n",
    "plt.title('Feature Importance')"
   ]
  },
  {
   "cell_type": "code",
   "execution_count": 43,
   "metadata": {},
   "outputs": [
    {
     "data": {
      "text/plain": [
       "array([0.00646183, 0.0069956 , 0.01016835, 0.00672082, 0.01482515,\n",
       "       0.892872  , 0.00685378, 0.00693622, 0.02575521, 0.01141423,\n",
       "       0.01099701], dtype=float32)"
      ]
     },
     "execution_count": 43,
     "metadata": {},
     "output_type": "execute_result"
    }
   ],
   "source": [
    "automl.feature_importances_"
   ]
  },
  {
   "cell_type": "code",
   "execution_count": 35,
   "metadata": {},
   "outputs": [
    {
     "data": {
      "text/plain": [
       "256.8864438533783"
      ]
     },
     "execution_count": 35,
     "metadata": {},
     "output_type": "execute_result"
    }
   ],
   "source": [
    "automl.time_to_find_best_model"
   ]
  },
  {
   "cell_type": "code",
   "execution_count": 38,
   "metadata": {},
   "outputs": [],
   "source": [
    "predictions = automl.predict(test_features)"
   ]
  },
  {
   "cell_type": "code",
   "execution_count": 39,
   "metadata": {},
   "outputs": [],
   "source": [
    "submission = test[['id']].copy()\n",
    "submission['cltv'] = predictions\n",
    "submission.to_csv('sub_flaml_1.csv',index = False)"
   ]
  },
  {
   "cell_type": "markdown",
   "metadata": {},
   "source": [
    "## Log Model "
   ]
  },
  {
   "cell_type": "code",
   "execution_count": 49,
   "metadata": {},
   "outputs": [],
   "source": [
    "train_log_features = train_features.copy()\n",
    "train_log_features['claim_amount'] = np.log(train_log_features['claim_amount'] + 1)\n",
    "train_log_target = train_target.copy()\n",
    "train_log_target = np.log(train_log_target)\n",
    "test_log_features = test_features.copy()\n",
    "test_log_features['claim_amount'] = np.log(test_log_features['claim_amount'] + 1)"
   ]
  },
  {
   "cell_type": "code",
   "execution_count": 53,
   "metadata": {},
   "outputs": [],
   "source": [
    "from flaml import AutoML"
   ]
  },
  {
   "cell_type": "code",
   "execution_count": 54,
   "metadata": {},
   "outputs": [],
   "source": [
    "automl_log = AutoML()"
   ]
  },
  {
   "cell_type": "code",
   "execution_count": 55,
   "metadata": {},
   "outputs": [
    {
     "name": "stdout",
     "output_type": "stream",
     "text": [
      "[flaml.automl.automl: 01-21 11:59:13] {2715} INFO - task = regression\n",
      "[flaml.automl.automl: 01-21 11:59:13] {2717} INFO - Data split method: uniform\n",
      "[flaml.automl.automl: 01-21 11:59:13] {2720} INFO - Evaluation method: cv\n",
      "[flaml.automl.automl: 01-21 11:59:13] {2847} INFO - Minimizing error metric: 1-r2\n",
      "[flaml.automl.automl: 01-21 11:59:13] {2897} WARNING - No search budget is provided via time_budget or max_iter. Training only one model per estimator. Zero-shot AutoML is used for certain tasks and estimators. To tune hyperparameters for each estimator, please provide budget either via time_budget or max_iter.\n",
      "[flaml.automl.automl: 01-21 11:59:13] {2993} INFO - List of ML learners in AutoML Run: ['lgbm', 'rf', 'xgboost', 'extra_tree', 'xgb_limitdepth']\n",
      "[flaml.automl.automl: 01-21 11:59:13] {3322} INFO - iteration 0, current learner lgbm\n",
      "[flaml.automl.automl: 01-21 11:59:15] {3460} INFO - Estimated sufficient time budget=10000s. Estimated necessary time budget=10s.\n",
      "[flaml.automl.automl: 01-21 11:59:15] {3507} INFO -  at 1.7s,\testimator lgbm's best error=0.6770,\tbest estimator lgbm's best error=0.6770\n",
      "[flaml.automl.automl: 01-21 11:59:15] {3322} INFO - iteration 1, current learner rf\n",
      "[flaml.automl.automl: 01-21 12:01:33] {3507} INFO -  at 140.1s,\testimator rf's best error=0.6784,\tbest estimator lgbm's best error=0.6770\n",
      "[flaml.automl.automl: 01-21 12:01:33] {3322} INFO - iteration 2, current learner xgboost\n",
      "[flaml.automl.automl: 01-21 12:02:28] {3507} INFO -  at 195.1s,\testimator xgboost's best error=0.6800,\tbest estimator lgbm's best error=0.6770\n",
      "[flaml.automl.automl: 01-21 12:02:28] {3322} INFO - iteration 3, current learner extra_tree\n",
      "[flaml.automl.automl: 01-21 12:03:08] {3507} INFO -  at 235.2s,\testimator extra_tree's best error=0.6814,\tbest estimator lgbm's best error=0.6770\n",
      "[flaml.automl.automl: 01-21 12:03:08] {3322} INFO - iteration 4, current learner xgb_limitdepth\n",
      "[flaml.automl.automl: 01-21 12:03:48] {3507} INFO -  at 275.2s,\testimator xgb_limitdepth's best error=0.6847,\tbest estimator lgbm's best error=0.6770\n",
      "[flaml.automl.automl: 01-21 12:03:49] {3771} INFO - retrain lgbm for 0.3s\n",
      "[flaml.automl.automl: 01-21 12:03:49] {3778} INFO - retrained model: LGBMRegressor(verbose=-1)\n",
      "[flaml.automl.automl: 01-21 12:03:49] {3023} INFO - fit succeeded\n",
      "[flaml.automl.automl: 01-21 12:03:49] {3024} INFO - Time taken to find the best model: 1.7025671005249023\n"
     ]
    }
   ],
   "source": [
    "automl_log.fit(train_log_features, train_log_target, metric = 'r2', task = 'regression', time_budget= -1, n_splits=5)"
   ]
  },
  {
   "cell_type": "code",
   "execution_count": 56,
   "metadata": {},
   "outputs": [],
   "source": [
    "predictions_log = np.exp(automl_log.predict(test_log_features))\n",
    "submission = test[['id']].copy()\n",
    "submission['cltv'] = predictions_log\n",
    "submission.to_csv('sub_flaml_log_1.csv',index = False)"
   ]
  },
  {
   "cell_type": "markdown",
   "metadata": {},
   "source": [
    "## Average prediction Model (0.5,0.5)"
   ]
  },
  {
   "cell_type": "code",
   "execution_count": 59,
   "metadata": {},
   "outputs": [],
   "source": [
    "submission = test[['id']].copy()\n",
    "submission['cltv'] = 0.5 * predictions_log + 0.5 * predictions\n",
    "submission.to_csv('sub_flaml_0.5_weight_1.csv',index = False)"
   ]
  },
  {
   "cell_type": "markdown",
   "metadata": {},
   "source": [
    "# Model 4"
   ]
  },
  {
   "cell_type": "code",
   "execution_count": 64,
   "metadata": {},
   "outputs": [],
   "source": [
    "automl2 = AutoML()"
   ]
  },
  {
   "cell_type": "code",
   "execution_count": 74,
   "metadata": {},
   "outputs": [
    {
     "name": "stdout",
     "output_type": "stream",
     "text": [
      "[flaml.automl.automl: 01-21 14:12:40] {2715} INFO - task = regression\n",
      "[flaml.automl.automl: 01-21 14:12:40] {2717} INFO - Data split method: uniform\n",
      "[flaml.automl.automl: 01-21 14:12:40] {2720} INFO - Evaluation method: cv\n",
      "[flaml.automl.automl: 01-21 14:12:40] {2847} INFO - Minimizing error metric: 1-r2\n",
      "[flaml.automl.automl: 01-21 14:12:40] {2897} WARNING - No search budget is provided via time_budget or max_iter. Training only one model per estimator. Zero-shot AutoML is used for certain tasks and estimators. To tune hyperparameters for each estimator, please provide budget either via time_budget or max_iter.\n",
      "[flaml.automl.automl: 01-21 14:12:40] {2993} INFO - List of ML learners in AutoML Run: ['lgbm', 'rf', 'xgboost', 'extra_tree', 'xgb_limitdepth']\n",
      "[flaml.automl.automl: 01-21 14:12:40] {3322} INFO - iteration 0, current learner lgbm\n",
      "[flaml.automl.automl: 01-21 14:12:42] {3460} INFO - Estimated sufficient time budget=10000s. Estimated necessary time budget=10s.\n",
      "[flaml.automl.automl: 01-21 14:12:42] {3507} INFO -  at 2.1s,\testimator lgbm's best error=0.8441,\tbest estimator lgbm's best error=0.8441\n",
      "[flaml.automl.automl: 01-21 14:12:42] {3322} INFO - iteration 1, current learner rf\n",
      "[flaml.automl.automl: 01-21 14:15:57] {3507} INFO -  at 197.5s,\testimator rf's best error=0.8454,\tbest estimator lgbm's best error=0.8441\n",
      "[flaml.automl.automl: 01-21 14:15:57] {3322} INFO - iteration 2, current learner xgboost\n",
      "[flaml.automl.automl: 01-21 14:17:00] {3507} INFO -  at 260.7s,\testimator xgboost's best error=0.8419,\tbest estimator xgboost's best error=0.8419\n",
      "[flaml.automl.automl: 01-21 14:17:00] {3322} INFO - iteration 3, current learner extra_tree\n",
      "[flaml.automl.automl: 01-21 14:17:36] {3507} INFO -  at 296.3s,\testimator extra_tree's best error=0.8476,\tbest estimator xgboost's best error=0.8419\n",
      "[flaml.automl.automl: 01-21 14:17:36] {3322} INFO - iteration 4, current learner xgb_limitdepth\n",
      "[flaml.automl.automl: 01-21 14:21:13] {3507} INFO -  at 513.2s,\testimator xgb_limitdepth's best error=0.8467,\tbest estimator xgboost's best error=0.8419\n",
      "[flaml.automl.automl: 01-21 14:21:29] {3771} INFO - retrain xgboost for 15.9s\n",
      "[flaml.automl.automl: 01-21 14:21:29] {3778} INFO - retrained model: XGBRegressor(base_score=0.5, booster='gbtree', callbacks=[],\n",
      "             colsample_bylevel=1.0, colsample_bynode=1,\n",
      "             colsample_bytree=0.9999355357362375, early_stopping_rounds=None,\n",
      "             enable_categorical=False, eval_metric=None, feature_types=None,\n",
      "             gamma=0, gpu_id=-1, grow_policy='lossguide', importance_type=None,\n",
      "             interaction_constraints='', learning_rate=0.0028943401472847964,\n",
      "             max_bin=256, max_cat_threshold=64, max_cat_to_onehot=4,\n",
      "             max_delta_step=0, max_depth=0, max_leaves=59,\n",
      "             min_child_weight=0.013389019900720164, missing=nan,\n",
      "             monotone_constraints='()', n_estimators=1899, n_jobs=-1,\n",
      "             num_parallel_tree=1, predictor='auto', random_state=0, ...)\n",
      "[flaml.automl.automl: 01-21 14:21:29] {3023} INFO - fit succeeded\n",
      "[flaml.automl.automl: 01-21 14:21:29] {3024} INFO - Time taken to find the best model: 260.68432807922363\n"
     ]
    }
   ],
   "source": [
    "automl2.fit(train.drop(['cltv'], axis = 'columns'), train['cltv'], metric = 'r2', task = 'regression', time_budget= -1, n_splits=5 )"
   ]
  },
  {
   "cell_type": "code",
   "execution_count": 75,
   "metadata": {},
   "outputs": [],
   "source": [
    "submission = test[['id']].copy()\n",
    "submission['cltv'] = automl2.predict(test)\n",
    "submission.to_csv('sub_flaml_4.csv',index = False)"
   ]
  },
  {
   "cell_type": "markdown",
   "metadata": {},
   "source": [
    "# Model 5"
   ]
  },
  {
   "cell_type": "code",
   "execution_count": 76,
   "metadata": {},
   "outputs": [
    {
     "name": "stdout",
     "output_type": "stream",
     "text": [
      "[flaml.automl.automl: 01-21 14:21:30] {2715} INFO - task = regression\n",
      "[flaml.automl.automl: 01-21 14:21:30] {2717} INFO - Data split method: uniform\n",
      "[flaml.automl.automl: 01-21 14:21:30] {2720} INFO - Evaluation method: cv\n",
      "[flaml.automl.automl: 01-21 14:21:30] {2847} INFO - Minimizing error metric: 1-r2\n",
      "[flaml.automl.automl: 01-21 14:21:30] {2897} WARNING - No search budget is provided via time_budget or max_iter. Training only one model per estimator. Zero-shot AutoML is used for certain tasks and estimators. To tune hyperparameters for each estimator, please provide budget either via time_budget or max_iter.\n",
      "[flaml.automl.automl: 01-21 14:21:30] {2993} INFO - List of ML learners in AutoML Run: ['lgbm', 'rf', 'xgboost', 'extra_tree', 'xgb_limitdepth']\n",
      "[flaml.automl.automl: 01-21 14:21:30] {3322} INFO - iteration 0, current learner lgbm\n",
      "[flaml.automl.automl: 01-21 14:21:32] {3460} INFO - Estimated sufficient time budget=10000s. Estimated necessary time budget=10s.\n",
      "[flaml.automl.automl: 01-21 14:21:32] {3507} INFO -  at 2.2s,\testimator lgbm's best error=0.8441,\tbest estimator lgbm's best error=0.8441\n",
      "[flaml.automl.automl: 01-21 14:21:32] {3322} INFO - iteration 1, current learner rf\n",
      "[flaml.automl.automl: 01-21 14:25:32] {3507} INFO -  at 241.6s,\testimator rf's best error=0.8458,\tbest estimator lgbm's best error=0.8441\n",
      "[flaml.automl.automl: 01-21 14:25:32] {3322} INFO - iteration 2, current learner xgboost\n",
      "[flaml.automl.automl: 01-21 14:26:52] {3507} INFO -  at 322.2s,\testimator xgboost's best error=0.8424,\tbest estimator xgboost's best error=0.8424\n",
      "[flaml.automl.automl: 01-21 14:26:52] {3322} INFO - iteration 3, current learner extra_tree\n",
      "[flaml.automl.automl: 01-21 14:27:24] {3507} INFO -  at 354.2s,\testimator extra_tree's best error=0.8508,\tbest estimator xgboost's best error=0.8424\n",
      "[flaml.automl.automl: 01-21 14:27:24] {3322} INFO - iteration 4, current learner xgb_limitdepth\n",
      "[flaml.automl.automl: 01-21 14:30:03] {3507} INFO -  at 513.3s,\testimator xgb_limitdepth's best error=0.8474,\tbest estimator xgboost's best error=0.8424\n",
      "[flaml.automl.automl: 01-21 14:30:19] {3771} INFO - retrain xgboost for 15.9s\n",
      "[flaml.automl.automl: 01-21 14:30:19] {3778} INFO - retrained model: XGBRegressor(base_score=0.5, booster='gbtree', callbacks=[],\n",
      "             colsample_bylevel=1.0, colsample_bynode=1,\n",
      "             colsample_bytree=0.9999355357362375, early_stopping_rounds=None,\n",
      "             enable_categorical=False, eval_metric=None, feature_types=None,\n",
      "             gamma=0, gpu_id=-1, grow_policy='lossguide', importance_type=None,\n",
      "             interaction_constraints='', learning_rate=0.0028943401472847964,\n",
      "             max_bin=256, max_cat_threshold=64, max_cat_to_onehot=4,\n",
      "             max_delta_step=0, max_depth=0, max_leaves=59,\n",
      "             min_child_weight=0.013389019900720164, missing=nan,\n",
      "             monotone_constraints='()', n_estimators=1899, n_jobs=-1,\n",
      "             num_parallel_tree=1, predictor='auto', random_state=0, ...)\n",
      "[flaml.automl.automl: 01-21 14:30:19] {3023} INFO - fit succeeded\n",
      "[flaml.automl.automl: 01-21 14:30:19] {3024} INFO - Time taken to find the best model: 322.2148802280426\n"
     ]
    }
   ],
   "source": [
    "automl3 = AutoML()\n",
    "automl2.fit(train.drop(['id','cltv'], axis = 'columns'), train['cltv'],\n",
    "            metric = 'r2', task = 'regression', time_budget= -1, n_splits=5 )\n",
    "submission = test[['id']].copy()\n",
    "submission['cltv'] = automl2.predict(test.drop(['id'], axis = 'columns'))\n",
    "submission.to_csv('sub_flaml_5.csv',index = False)"
   ]
  },
  {
   "cell_type": "code",
   "execution_count": null,
   "metadata": {},
   "outputs": [],
   "source": []
  },
  {
   "cell_type": "code",
   "execution_count": null,
   "metadata": {},
   "outputs": [],
   "source": []
  }
 ],
 "metadata": {
  "kernelspec": {
   "display_name": "Python 3",
   "language": "python",
   "name": "python3"
  },
  "language_info": {
   "codemirror_mode": {
    "name": "ipython",
    "version": 3
   },
   "file_extension": ".py",
   "mimetype": "text/x-python",
   "name": "python",
   "nbconvert_exporter": "python",
   "pygments_lexer": "ipython3",
   "version": "3.8.5"
  }
 },
 "nbformat": 4,
 "nbformat_minor": 4
}
